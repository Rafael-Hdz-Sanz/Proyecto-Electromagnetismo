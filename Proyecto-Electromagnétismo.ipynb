{
 "cells": [
  {
   "cell_type": "code",
   "execution_count": 2,
   "id": "3cb4d294-4342-424a-9069-0cc7e396238c",
   "metadata": {},
   "outputs": [
    {
     "data": {
      "application/vnd.jupyter.widget-view+json": {
       "model_id": "a09c4ecaec7c40a592584e19235d0c83",
       "version_major": 2,
       "version_minor": 0
      },
      "text/plain": [
       "HTML(value='<h3>🔧 Introduce los parámetros del sistema</h3>')"
      ]
     },
     "metadata": {},
     "output_type": "display_data"
    },
    {
     "data": {
      "application/vnd.jupyter.widget-view+json": {
       "model_id": "b33c63cca96b44c99f60daf45e493677",
       "version_major": 2,
       "version_minor": 0
      },
      "text/plain": [
       "FloatText(value=1.0, description='Radio R (m):')"
      ]
     },
     "metadata": {},
     "output_type": "display_data"
    },
    {
     "data": {
      "application/vnd.jupyter.widget-view+json": {
       "model_id": "47581c303ffd455db8b8ce8b8aa303ca",
       "version_major": 2,
       "version_minor": 0
      },
      "text/plain": [
       "FloatText(value=1.0, description='Corriente I (A):')"
      ]
     },
     "metadata": {},
     "output_type": "display_data"
    },
    {
     "data": {
      "application/vnd.jupyter.widget-view+json": {
       "model_id": "9f826cc716a14c039db25f5e6090dfd2",
       "version_major": 2,
       "version_minor": 0
      },
      "text/plain": [
       "FloatText(value=1e-06, description='Carga q (C):')"
      ]
     },
     "metadata": {},
     "output_type": "display_data"
    },
    {
     "data": {
      "application/vnd.jupyter.widget-view+json": {
       "model_id": "e84fbe3d225646db889c8963fd1e108f",
       "version_major": 2,
       "version_minor": 0
      },
      "text/plain": [
       "FloatText(value=0.0, description='x carga:')"
      ]
     },
     "metadata": {},
     "output_type": "display_data"
    },
    {
     "data": {
      "application/vnd.jupyter.widget-view+json": {
       "model_id": "f22291bbe0ae47ad9e442e92e70465ab",
       "version_major": 2,
       "version_minor": 0
      },
      "text/plain": [
       "FloatText(value=0.0, description='y carga:')"
      ]
     },
     "metadata": {},
     "output_type": "display_data"
    },
    {
     "data": {
      "application/vnd.jupyter.widget-view+json": {
       "model_id": "ea7823d89d8c497ab68650d09677b630",
       "version_major": 2,
       "version_minor": 0
      },
      "text/plain": [
       "FloatText(value=0.5, description='z carga:')"
      ]
     },
     "metadata": {},
     "output_type": "display_data"
    },
    {
     "data": {
      "application/vnd.jupyter.widget-view+json": {
       "model_id": "10c4616b54164f408b9c831f3dc18b7f",
       "version_major": 2,
       "version_minor": 0
      },
      "text/plain": [
       "FloatText(value=0.0, description='vx:')"
      ]
     },
     "metadata": {},
     "output_type": "display_data"
    },
    {
     "data": {
      "application/vnd.jupyter.widget-view+json": {
       "model_id": "56fb3bfe6c6c4a30b274e27ec61a37cc",
       "version_major": 2,
       "version_minor": 0
      },
      "text/plain": [
       "FloatText(value=0.0, description='vy:')"
      ]
     },
     "metadata": {},
     "output_type": "display_data"
    },
    {
     "data": {
      "application/vnd.jupyter.widget-view+json": {
       "model_id": "e9baa0824e20426b9582a77ee9cec3a1",
       "version_major": 2,
       "version_minor": 0
      },
      "text/plain": [
       "FloatText(value=0.0, description='vz:')"
      ]
     },
     "metadata": {},
     "output_type": "display_data"
    },
    {
     "data": {
      "application/vnd.jupyter.widget-view+json": {
       "model_id": "50827cc16d0440549579f254b5688a08",
       "version_major": 2,
       "version_minor": 0
      },
      "text/plain": [
       "Button(button_style='success', description='Listo ✅', style=ButtonStyle())"
      ]
     },
     "metadata": {},
     "output_type": "display_data"
    },
    {
     "data": {
      "application/vnd.jupyter.widget-view+json": {
       "model_id": "99c65e82681e4fa28b2e929ee681d0f0",
       "version_major": 2,
       "version_minor": 0
      },
      "text/plain": [
       "Output()"
      ]
     },
     "metadata": {},
     "output_type": "display_data"
    }
   ],
   "source": [
    "%matplotlib inline\n",
    "# Esto es para que las gráficas se muestren aquí mismo, en el notebook\n",
    "\n",
    "import numpy as np\n",
    "import matplotlib.pyplot as plt\n",
    "from mpl_toolkits.mplot3d import Axes3D  # Para poder hacer gráficos en 3D\n",
    "import ipywidgets as widgets  # Esto es para hacer los controles interactivos\n",
    "from IPython.display import display, clear_output  # Para mostrar cosas y limpiar la pantalla\n",
    "\n",
    "mu0 = 4 * np.pi * 1e-7  # Constante magnética en el vacío, muy importante para calcular el campo\n",
    "\n",
    "# Aquí definimos las cajas donde vamos a poner los valores que queremos usar\n",
    "R_input = widgets.FloatText(value=1.0, description='Radio R (m):')  # Radio de la espira en metros\n",
    "I_input = widgets.FloatText(value=1.0, description='Corriente I (A):')  # Corriente que pasa por la espira\n",
    "q_input = widgets.FloatText(value=1e-6, description='Carga q (C):')  # La carga puntual que va a sentir la fuerza\n",
    "x_input = widgets.FloatText(value=0.0, description='x carga:')  # Posición en x de la carga\n",
    "y_input = widgets.FloatText(value=0.0, description='y carga:')  # Posición en y de la carga\n",
    "z_input = widgets.FloatText(value=0.5, description='z carga:')  # Posición en z de la carga\n",
    "vx_input = widgets.FloatText(value=0.0, description='vx:')  # Componente x de la velocidad de la carga\n",
    "vy_input = widgets.FloatText(value=0.0, description='vy:')  # Componente y de la velocidad\n",
    "vz_input = widgets.FloatText(value=0.0, description='vz:')  # Componente z de la velocidad\n",
    "\n",
    "# Botón para decir que ya pusiste los valores y quieres seguir\n",
    "ready_button = widgets.Button(description=\"Listo ✅\", button_style='success')\n",
    "\n",
    "# Botones para confirmar si quieres ver la simulación o no (toggle entre Sí y No)\n",
    "confirm_button = widgets.ToggleButtons(options=[\"No\", \"Sí\"], description='¿Seguro?', button_style='info')\n",
    "\n",
    "# Área donde vamos a imprimir mensajes y mostrar la gráfica\n",
    "output = widgets.Output()\n",
    "\n",
    "# Esta función se ejecuta cuando presionas el botón \"Listo\"\n",
    "def on_ready_clicked(b):\n",
    "    with output:\n",
    "        clear_output(wait=True)  # Limpiamos la pantalla antes de mostrar mensajes nuevos\n",
    "        errores = []\n",
    "        # Checamos que el radio no sea cero o negativo porque no tendría sentido\n",
    "        if R_input.value <= 0:\n",
    "            errores.append(\"❌ El radio R debe ser mayor que 0.\")\n",
    "        # Checamos que la carga tampoco sea cero, porque entonces no habría fuerza\n",
    "        if q_input.value == 0:\n",
    "            errores.append(\"❌ La carga q no puede ser cero.\")\n",
    "        # Si hubo errores los mostramos\n",
    "        if errores:\n",
    "            for e in errores:\n",
    "                print(e)\n",
    "        else:\n",
    "            # Si todo está bien, preguntamos si quieres continuar con la simulación\n",
    "            print(\"✅ Parámetros correctos. ¿Deseas continuar?\")\n",
    "            display(confirm_button)  # Mostramos el botón para confirmar\n",
    "\n",
    "# Esta función es la que hace toda la simulación y gráfica\n",
    "def simular():\n",
    "    with output:\n",
    "        clear_output(wait=True)  # Limpiamos todo para no mezclar con cosas anteriores\n",
    "        print(\"🔄 Ejecutando simulación...\")\n",
    "\n",
    "        # Guardamos los valores que el usuario escribió para usarlos\n",
    "        R = R_input.value\n",
    "        I = I_input.value\n",
    "        q = q_input.value\n",
    "        r_carga = np.array([x_input.value, y_input.value, z_input.value])  # Posición de la carga\n",
    "        v_carga = np.array([vx_input.value, vy_input.value, vz_input.value])  # Velocidad de la carga\n",
    "\n",
    "        # Creamos los puntos de la espira, que es un círculo en el plano XY\n",
    "        N = 100  # Cuántos pedacitos para aproximar la espira\n",
    "        theta = np.linspace(0, 2*np.pi, N)  # Angulos para dibujar el círculo completo\n",
    "        x = R * np.cos(theta)  # Coordenadas x de la espira\n",
    "        y = R * np.sin(theta)  # Coordenadas y de la espira\n",
    "        z = np.zeros(N)        # z=0 porque está en el plano XY\n",
    "        espira = np.vstack((x, y, z)).T  # Matriz con las coordenadas de cada punto\n",
    "\n",
    "        # Esta función calcula el campo magnético en cualquier punto usando Biot-Savart\n",
    "        def campo_magnetico_biot_savart(espira, r_punto):\n",
    "            B = np.zeros(3)  # Campo inicial es cero vectorialmente\n",
    "            for i in range(len(espira)):\n",
    "                r1 = espira[i]  # Un punto de la espira\n",
    "                r2 = espira[(i + 1) % len(espira)]  # El siguiente punto (con ciclo para cerrar el círculo)\n",
    "                dl = r2 - r1  # Vector diferencial de corriente\n",
    "                r = r_punto - r1  # Vector desde el elemento dl hasta el punto donde queremos el campo\n",
    "                r_norm = np.linalg.norm(r)  # Magnitud de ese vector\n",
    "                if r_norm == 0:\n",
    "                    continue  # Si el punto coincide, ignoramos para evitar división entre cero\n",
    "                # Aplicamos la fórmula diferencial de Biot-Savart para campo magnético\n",
    "                dB = mu0 * I / (4 * np.pi) * np.cross(dl, r) / (r_norm**3)\n",
    "                B += dB  # Sumamos al campo total\n",
    "            return B\n",
    "\n",
    "        # Creamos una rejilla de puntos donde calcularemos el campo para visualizarlo\n",
    "        X, Y, Z = np.meshgrid(\n",
    "            np.linspace(-1.5, 1.5, 6),\n",
    "            np.linspace(-1.5, 1.5, 6),\n",
    "            np.linspace(-1.0, 1.0, 4)\n",
    "        )\n",
    "        BX, BY, BZ = np.zeros_like(X), np.zeros_like(Y), np.zeros_like(Z)  # Campos en cada punto\n",
    "\n",
    "        # Calculamos el campo en cada punto de la rejilla\n",
    "        for i in range(X.shape[0]):\n",
    "            for j in range(X.shape[1]):\n",
    "                for k in range(X.shape[2]):\n",
    "                    r_point = np.array([X[i, j, k], Y[i, j, k], Z[i, j, k]])\n",
    "                    B_vec = campo_magnetico_biot_savart(espira, r_point)\n",
    "                    BX[i, j, k], BY[i, j, k], BZ[i, j, k] = B_vec\n",
    "\n",
    "        # Ahora calculamos el campo y la fuerza sobre la carga puntual\n",
    "        B_carga = campo_magnetico_biot_savart(espira, r_carga)\n",
    "        F_magn = q * np.cross(v_carga, B_carga)  # Fórmula F = q v × B\n",
    "\n",
    "        # Aquí empezamos a hacer la gráfica 3D\n",
    "        fig = plt.figure(figsize=(12, 9))\n",
    "        ax = fig.add_subplot(111, projection='3d')\n",
    "\n",
    "        # Dibujamos la espira, la carga y los vectores del campo y fuerza\n",
    "        ax.plot(espira[:, 0], espira[:, 1], espira[:, 2], 'b', label='Espira con corriente')\n",
    "        ax.scatter(*r_carga, color='red', s=60, label='Carga puntual q')\n",
    "        ax.quiver(*r_carga, *B_carga, color='green', length=0.3, normalize=True, label='B en carga')\n",
    "        ax.quiver(*r_carga, *F_magn, color='magenta', length=0.3, normalize=True, label='F = q v × B')\n",
    "        ax.quiver(X, Y, Z, BX, BY, BZ, color='orange', length=0.2, normalize=True, alpha=0.6)\n",
    "\n",
    "        # Ponemos etiquetas y título\n",
    "        ax.set_xlabel('X [m]')\n",
    "        ax.set_ylabel('Y [m]')\n",
    "        ax.set_zlabel('Z [m]')\n",
    "        ax.set_title('Campo magnético generado por una espira + Fuerza sobre carga')\n",
    "        ax.legend()\n",
    "        ax.set_box_aspect([1,1,1])  # Para que el gráfico no se deforme\n",
    "        ax.grid(True)\n",
    "\n",
    "        plt.show()  # Mostramos la gráfica\n",
    "        print(\"✅ ¡Gráfica generada!\")\n",
    "\n",
    "# Esta función detecta cuando eliges “Sí” en el botón para confirmar la simulación\n",
    "def confirmar(change):\n",
    "    if change['new'] == \"Sí\":\n",
    "        simular()  # Llama a la función que hace la simulación y gráfica\n",
    "\n",
    "# Conectamos los botones con las funciones para que respondan a clics o cambios\n",
    "ready_button.on_click(on_ready_clicked)\n",
    "confirm_button.observe(confirmar, names='value')\n",
    "\n",
    "# Finalmente mostramos toda la interfaz para que puedas interactuar\n",
    "display(\n",
    "    widgets.HTML(\"<h3>🔧 Introduce los parámetros del sistema</h3>\"),\n",
    "    R_input, I_input, q_input,\n",
    "    x_input, y_input, z_input,\n",
    "    vx_input, vy_input, vz_input,\n",
    "    ready_button,\n",
    "    output\n",
    ")\n"
   ]
  },
  {
   "cell_type": "code",
   "execution_count": null,
   "id": "b680f661-72b6-4e62-8329-ff2b8200abe0",
   "metadata": {},
   "outputs": [],
   "source": []
  }
 ],
 "metadata": {
  "kernelspec": {
   "display_name": "Python 3 (ipykernel)",
   "language": "python",
   "name": "python3"
  },
  "language_info": {
   "codemirror_mode": {
    "name": "ipython",
    "version": 3
   },
   "file_extension": ".py",
   "mimetype": "text/x-python",
   "name": "python",
   "nbconvert_exporter": "python",
   "pygments_lexer": "ipython3",
   "version": "3.12.11"
  }
 },
 "nbformat": 4,
 "nbformat_minor": 5
}
